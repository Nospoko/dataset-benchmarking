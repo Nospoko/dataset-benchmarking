{
 "cells": [
  {
   "cell_type": "code",
   "execution_count": 2,
   "metadata": {},
   "outputs": [],
   "source": [
    "import json\n",
    "\n",
    "import fortepyan as ff\n",
    "import numpy as np\n",
    "from tqdm import tqdm\n",
    "from datasets import Dataset, load_dataset\n",
    "\n",
    "from data_masked.masking import AwesomeMasks"
   ]
  },
  {
   "cell_type": "code",
   "execution_count": 3,
   "metadata": {},
   "outputs": [],
   "source": [
    "def process_dataset(dataset: Dataset, sequence_len: int, sequence_step: int, masks: AwesomeMasks) -> list[dict]:\n",
    "    processed_records = []\n",
    "\n",
    "    for record in tqdm(dataset, total=dataset.num_rows):\n",
    "        # print(record)\n",
    "        piece = ff.MidiPiece.from_huggingface(record)\n",
    "        processed_record = process_record(piece, sequence_len, sequence_step, masks)\n",
    "\n",
    "        processed_records += processed_record\n",
    "\n",
    "    return processed_records\n",
    "\n",
    "\n",
    "def process_record(piece: ff.MidiPiece, sequence_len: int, sequence_step: int, masks: AwesomeMasks) -> list[dict]:\n",
    "    piece.df[\"next_start\"] = piece.df.start.shift(-1)\n",
    "    piece.df[\"dstart\"] = piece.df.next_start - piece.df.start\n",
    "    piece.df[\"dstart\"] = piece.df[\"dstart\"].fillna(0)\n",
    "\n",
    "    midi_filename = piece.source[\"midi_filename\"]\n",
    "\n",
    "    record = []\n",
    "\n",
    "    n_samples = 1 + (piece.size - sequence_len) // sequence_step\n",
    "    for it in range(n_samples):\n",
    "        start = it * sequence_step\n",
    "        finish = start + sequence_len\n",
    "        part = piece[start:finish]\n",
    "\n",
    "        sequence = {\n",
    "            \"midi_filename\": midi_filename,\n",
    "            \"source\": json.dumps(part.source),\n",
    "            \"pitch\": part.df.pitch.astype(\"int16\").values,\n",
    "            \"dstart\": part.df.dstart.astype(\"float32\").values,\n",
    "            \"duration\": part.df.duration.astype(\"float32\").values,\n",
    "            \"velocity\": part.df.velocity.astype(\"int16\").values,\n",
    "        }\n",
    "\n",
    "        masking_spaces = {}\n",
    "\n",
    "        for mask in masks.masks:\n",
    "            # add new keys to sequence corresponding to masking space for each mask type\n",
    "            masking_spaces[mask.token] = mask.masking_space(sequence)\n",
    "\n",
    "        sequence[\"masking_spaces\"] = masking_spaces\n",
    "\n",
    "        record.append(sequence)\n",
    "\n",
    "    return record\n",
    "\n",
    "def average_record_length(dataset: Dataset) -> float:\n",
    "    lengths = [len(record[\"notes\"][\"pitch\"]) for record in dataset]\n",
    "    return np.mean(lengths), np.std(lengths), np.max(lengths), np.min(lengths), np.median(lengths)"
   ]
  },
  {
   "cell_type": "code",
   "execution_count": 4,
   "metadata": {},
   "outputs": [
    {
     "data": {
      "application/vnd.jupyter.widget-view+json": {
       "model_id": "cf225dae9355480db4e183238fbd3b5c",
       "version_major": 2,
       "version_minor": 0
      },
      "text/plain": [
       "Downloading readme:   0%|          | 0.00/842 [00:00<?, ?B/s]"
      ]
     },
     "metadata": {},
     "output_type": "display_data"
    },
    {
     "name": "stdout",
     "output_type": "stream",
     "text": [
      "Downloading and preparing dataset None/None to C:/Users/samue/.cache/huggingface/datasets/roszcz___parquet/roszcz--maestro-v1-sustain-5350ada51983a2ef/0.0.0/14a00e99c0d15a23649d0db8944380ac81082d4b021f398733dd84f3a6c569a7...\n"
     ]
    },
    {
     "data": {
      "application/vnd.jupyter.widget-view+json": {
       "model_id": "ac4b831de09142eaa682b4e192b76533",
       "version_major": 2,
       "version_minor": 0
      },
      "text/plain": [
       "Downloading data files:   0%|          | 0/3 [00:00<?, ?it/s]"
      ]
     },
     "metadata": {},
     "output_type": "display_data"
    },
    {
     "data": {
      "application/vnd.jupyter.widget-view+json": {
       "model_id": "7f651491fa984d1a863b8e2017ceb839",
       "version_major": 2,
       "version_minor": 0
      },
      "text/plain": [
       "Downloading data:   0%|          | 0.00/69.3M [00:00<?, ?B/s]"
      ]
     },
     "metadata": {},
     "output_type": "display_data"
    },
    {
     "data": {
      "application/vnd.jupyter.widget-view+json": {
       "model_id": "c56079e3f41a4c839cce1e6bd84791bc",
       "version_major": 2,
       "version_minor": 0
      },
      "text/plain": [
       "Downloading data:   0%|          | 0.00/8.38M [00:00<?, ?B/s]"
      ]
     },
     "metadata": {},
     "output_type": "display_data"
    },
    {
     "data": {
      "application/vnd.jupyter.widget-view+json": {
       "model_id": "625bc68c238842f8a04fbd716352f984",
       "version_major": 2,
       "version_minor": 0
      },
      "text/plain": [
       "Downloading data:   0%|          | 0.00/9.57M [00:00<?, ?B/s]"
      ]
     },
     "metadata": {},
     "output_type": "display_data"
    },
    {
     "data": {
      "application/vnd.jupyter.widget-view+json": {
       "model_id": "70096a0aadad46d0898f20c7941505b5",
       "version_major": 2,
       "version_minor": 0
      },
      "text/plain": [
       "Extracting data files:   0%|          | 0/3 [00:00<?, ?it/s]"
      ]
     },
     "metadata": {},
     "output_type": "display_data"
    },
    {
     "data": {
      "application/vnd.jupyter.widget-view+json": {
       "model_id": "a28148738e174493b9e0dcade132e48e",
       "version_major": 2,
       "version_minor": 0
      },
      "text/plain": [
       "Generating train split:   0%|          | 0/962 [00:00<?, ? examples/s]"
      ]
     },
     "metadata": {},
     "output_type": "display_data"
    },
    {
     "data": {
      "application/vnd.jupyter.widget-view+json": {
       "model_id": "56d26525971d4d11b15879e5f73cc2db",
       "version_major": 2,
       "version_minor": 0
      },
      "text/plain": [
       "Generating validation split:   0%|          | 0/137 [00:00<?, ? examples/s]"
      ]
     },
     "metadata": {},
     "output_type": "display_data"
    },
    {
     "data": {
      "application/vnd.jupyter.widget-view+json": {
       "model_id": "52144337685149dbb9a7c1e17691f89d",
       "version_major": 2,
       "version_minor": 0
      },
      "text/plain": [
       "Generating test split:   0%|          | 0/177 [00:00<?, ? examples/s]"
      ]
     },
     "metadata": {},
     "output_type": "display_data"
    },
    {
     "name": "stdout",
     "output_type": "stream",
     "text": [
      "Dataset parquet downloaded and prepared to C:/Users/samue/.cache/huggingface/datasets/roszcz___parquet/roszcz--maestro-v1-sustain-5350ada51983a2ef/0.0.0/14a00e99c0d15a23649d0db8944380ac81082d4b021f398733dd84f3a6c569a7. Subsequent calls will reuse this data.\n"
     ]
    },
    {
     "data": {
      "application/vnd.jupyter.widget-view+json": {
       "model_id": "49d3ab6aee0d4e3890f1e65d719d165c",
       "version_major": 2,
       "version_minor": 0
      },
      "text/plain": [
       "  0%|          | 0/3 [00:00<?, ?it/s]"
      ]
     },
     "metadata": {},
     "output_type": "display_data"
    }
   ],
   "source": [
    "dataset = load_dataset(\"roszcz/maestro-v1-sustain\")\n",
    "train_dataset = dataset[\"train\"]\n",
    "val_dataset = dataset[\"validation\"]\n",
    "test_dataset = dataset[\"test\"]"
   ]
  },
  {
   "cell_type": "code",
   "execution_count": 5,
   "metadata": {},
   "outputs": [],
   "source": [
    "masks = AwesomeMasks()"
   ]
  },
  {
   "cell_type": "markdown",
   "metadata": {},
   "source": [
    "time processing with minimal coverage"
   ]
  },
  {
   "cell_type": "code",
   "execution_count": 6,
   "metadata": {},
   "outputs": [
    {
     "name": "stderr",
     "output_type": "stream",
     "text": [
      "100%|██████████| 177/177 [00:18<00:00,  9.67it/s]\n",
      "100%|██████████| 177/177 [00:17<00:00,  9.86it/s]\n",
      "100%|██████████| 177/177 [00:18<00:00,  9.66it/s]\n",
      "100%|██████████| 177/177 [00:17<00:00,  9.87it/s]\n",
      "100%|██████████| 177/177 [00:17<00:00,  9.84it/s]\n",
      "100%|██████████| 177/177 [00:18<00:00,  9.71it/s]\n",
      "100%|██████████| 177/177 [00:18<00:00,  9.75it/s]\n",
      "100%|██████████| 177/177 [00:17<00:00,  9.89it/s]\n",
      "100%|██████████| 177/177 [00:18<00:00,  9.35it/s]\n",
      "100%|██████████| 177/177 [00:18<00:00,  9.63it/s]"
     ]
    },
    {
     "name": "stdout",
     "output_type": "stream",
     "text": [
      "18.2 s ± 0 ns per loop (mean ± std. dev. of 1 run, 10 loops each)\n"
     ]
    },
    {
     "name": "stderr",
     "output_type": "stream",
     "text": [
      "\n"
     ]
    }
   ],
   "source": [
    "%%timeit -n 10 -r 1\n",
    "test_records = process_dataset(test_dataset, sequence_len=60, sequence_step=60, masks=masks)"
   ]
  },
  {
   "cell_type": "code",
   "execution_count": 7,
   "metadata": {},
   "outputs": [
    {
     "name": "stdout",
     "output_type": "stream",
     "text": [
      "Mean: 4188.757062146893, std: 3130.797449499849, max: 16966, min: 366, median: 3264.0\n"
     ]
    }
   ],
   "source": [
    "mean, std, max_len, min_len, median = average_record_length(test_dataset)\n",
    "print(f\"Mean: {mean}, std: {std}, max: {max_len}, min: {min_len}, median: {median}\")"
   ]
  }
 ],
 "metadata": {
  "kernelspec": {
   "display_name": "Python 3",
   "language": "python",
   "name": "python3"
  },
  "language_info": {
   "codemirror_mode": {
    "name": "ipython",
    "version": 3
   },
   "file_extension": ".py",
   "mimetype": "text/x-python",
   "name": "python",
   "nbconvert_exporter": "python",
   "pygments_lexer": "ipython3",
   "version": "3.10.0"
  }
 },
 "nbformat": 4,
 "nbformat_minor": 2
}
